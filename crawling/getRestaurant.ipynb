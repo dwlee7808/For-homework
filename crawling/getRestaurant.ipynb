{
 "cells": [
  {
   "cell_type": "code",
   "execution_count": 6,
   "metadata": {},
   "outputs": [],
   "source": [
    "from selenium import webdriver\n",
    "from selenium.webdriver.common.by import By\n",
    "from selenium.webdriver.common.keys import Keys\n",
    "from selenium.webdriver.chrome.service import Service\n",
    "from webdriver_manager.chrome import ChromeDriverManager\n",
    "import time"
   ]
  },
  {
   "cell_type": "code",
   "execution_count": 7,
   "metadata": {},
   "outputs": [],
   "source": [
    "driver = webdriver.Chrome(service= Service(ChromeDriverManager().install()))\n",
    "url = \"https://www.naver.com/\"\n",
    "driver.get(url)"
   ]
  },
  {
   "cell_type": "code",
   "execution_count": 8,
   "metadata": {},
   "outputs": [],
   "source": [
    "searchBox = driver.find_element(By.XPATH,'//*[@id=\"query\"]')\n",
    "searchBox.send_keys(\"식당\")\n",
    "time.sleep(1)\n",
    "searchBox.send_keys(Keys.RETURN)\n",
    "map = driver.find_element(By.XPATH,'//*[@id=\"lnb\"]/div[1]/div/div[1]/div/div[1]/div[1]/a').click()"
   ]
  },
  {
   "cell_type": "code",
   "execution_count": 9,
   "metadata": {},
   "outputs": [],
   "source": [
    "driver.switch_to.window(driver.window_handles[-1])\n",
    "time.sleep(1)\n",
    "iFrame = driver.find_element(By.ID,'searchIframe')\n",
    "driver.switch_to.frame(iFrame)\n"
   ]
  },
  {
   "cell_type": "code",
   "execution_count": 10,
   "metadata": {},
   "outputs": [],
   "source": [
    "restaurantGroup = driver.find_element(By.XPATH,'//*[@id=\"_pcmap_list_scroll_container\"]')\n",
    "\n",
    "last_height = driver.execute_script(\"return arguments[0].scrollTop;\", restaurantGroup)\n",
    "while True:\n",
    "    driver.execute_script(\"arguments[0].scrollBy(0, 1000)\", restaurantGroup)\n",
    "    new_height = driver.execute_script(\"return arguments[0].scrollTop;\", restaurantGroup)\n",
    "    if new_height == last_height:\n",
    "        break\n",
    "    last_height = new_height\n",
    "    time.sleep(0.1)"
   ]
  },
  {
   "cell_type": "code",
   "execution_count": 11,
   "metadata": {},
   "outputs": [
    {
     "ename": "NoSuchWindowException",
     "evalue": "Message: no such window: target window already closed\nfrom unknown error: web view not found\n  (Session info: chrome=124.0.6367.119)\nStacktrace:\n0   chromedriver                        0x0000000100cd28cc chromedriver + 4368588\n1   chromedriver                        0x0000000100ccad60 chromedriver + 4336992\n2   chromedriver                        0x00000001008eec04 chromedriver + 289796\n3   chromedriver                        0x00000001008c9918 chromedriver + 137496\n4   chromedriver                        0x0000000100955ab8 chromedriver + 711352\n5   chromedriver                        0x0000000100968d08 chromedriver + 789768\n6   chromedriver                        0x0000000100925ab4 chromedriver + 514740\n7   chromedriver                        0x000000010092650c chromedriver + 517388\n8   chromedriver                        0x0000000100c96de8 chromedriver + 4124136\n9   chromedriver                        0x0000000100c9bbd8 chromedriver + 4144088\n10  chromedriver                        0x0000000100c7c7b0 chromedriver + 4016048\n11  chromedriver                        0x0000000100c9c508 chromedriver + 4146440\n12  chromedriver                        0x0000000100c6e264 chromedriver + 3957348\n13  chromedriver                        0x0000000100cbbe50 chromedriver + 4275792\n14  chromedriver                        0x0000000100cbbfcc chromedriver + 4276172\n15  chromedriver                        0x0000000100cca9c0 chromedriver + 4336064\n16  libsystem_pthread.dylib             0x0000000180656034 _pthread_start + 136\n17  libsystem_pthread.dylib             0x0000000180650e3c thread_start + 8\n",
     "output_type": "error",
     "traceback": [
      "\u001b[0;31m---------------------------------------------------------------------------\u001b[0m",
      "\u001b[0;31mNoSuchElementException\u001b[0m                    Traceback (most recent call last)",
      "Cell \u001b[0;32mIn[11], line 6\u001b[0m\n\u001b[1;32m      5\u001b[0m \u001b[38;5;28;01mtry\u001b[39;00m: \n\u001b[0;32m----> 6\u001b[0m     iFrame \u001b[38;5;241m=\u001b[39m \u001b[43mdriver\u001b[49m\u001b[38;5;241;43m.\u001b[39;49m\u001b[43mfind_element\u001b[49m\u001b[43m(\u001b[49m\u001b[43mBy\u001b[49m\u001b[38;5;241;43m.\u001b[39;49m\u001b[43mID\u001b[49m\u001b[43m,\u001b[49m\u001b[38;5;124;43m'\u001b[39;49m\u001b[38;5;124;43msearchIframe\u001b[39;49m\u001b[38;5;124;43m'\u001b[39;49m\u001b[43m)\u001b[49m\n\u001b[1;32m      7\u001b[0m     driver\u001b[38;5;241m.\u001b[39mswitch_to\u001b[38;5;241m.\u001b[39mframe(iFrame)\n",
      "File \u001b[0;32m/opt/homebrew/lib/python3.12/site-packages/selenium/webdriver/remote/webdriver.py:741\u001b[0m, in \u001b[0;36mWebDriver.find_element\u001b[0;34m(self, by, value)\u001b[0m\n\u001b[1;32m    739\u001b[0m     value \u001b[38;5;241m=\u001b[39m \u001b[38;5;124mf\u001b[39m\u001b[38;5;124m'\u001b[39m\u001b[38;5;124m[name=\u001b[39m\u001b[38;5;124m\"\u001b[39m\u001b[38;5;132;01m{\u001b[39;00mvalue\u001b[38;5;132;01m}\u001b[39;00m\u001b[38;5;124m\"\u001b[39m\u001b[38;5;124m]\u001b[39m\u001b[38;5;124m'\u001b[39m\n\u001b[0;32m--> 741\u001b[0m \u001b[38;5;28;01mreturn\u001b[39;00m \u001b[38;5;28;43mself\u001b[39;49m\u001b[38;5;241;43m.\u001b[39;49m\u001b[43mexecute\u001b[49m\u001b[43m(\u001b[49m\u001b[43mCommand\u001b[49m\u001b[38;5;241;43m.\u001b[39;49m\u001b[43mFIND_ELEMENT\u001b[49m\u001b[43m,\u001b[49m\u001b[43m \u001b[49m\u001b[43m{\u001b[49m\u001b[38;5;124;43m\"\u001b[39;49m\u001b[38;5;124;43musing\u001b[39;49m\u001b[38;5;124;43m\"\u001b[39;49m\u001b[43m:\u001b[49m\u001b[43m \u001b[49m\u001b[43mby\u001b[49m\u001b[43m,\u001b[49m\u001b[43m \u001b[49m\u001b[38;5;124;43m\"\u001b[39;49m\u001b[38;5;124;43mvalue\u001b[39;49m\u001b[38;5;124;43m\"\u001b[39;49m\u001b[43m:\u001b[49m\u001b[43m \u001b[49m\u001b[43mvalue\u001b[49m\u001b[43m}\u001b[49m\u001b[43m)\u001b[49m[\u001b[38;5;124m\"\u001b[39m\u001b[38;5;124mvalue\u001b[39m\u001b[38;5;124m\"\u001b[39m]\n",
      "File \u001b[0;32m/opt/homebrew/lib/python3.12/site-packages/selenium/webdriver/remote/webdriver.py:347\u001b[0m, in \u001b[0;36mWebDriver.execute\u001b[0;34m(self, driver_command, params)\u001b[0m\n\u001b[1;32m    346\u001b[0m \u001b[38;5;28;01mif\u001b[39;00m response:\n\u001b[0;32m--> 347\u001b[0m     \u001b[38;5;28;43mself\u001b[39;49m\u001b[38;5;241;43m.\u001b[39;49m\u001b[43merror_handler\u001b[49m\u001b[38;5;241;43m.\u001b[39;49m\u001b[43mcheck_response\u001b[49m\u001b[43m(\u001b[49m\u001b[43mresponse\u001b[49m\u001b[43m)\u001b[49m\n\u001b[1;32m    348\u001b[0m     response[\u001b[38;5;124m\"\u001b[39m\u001b[38;5;124mvalue\u001b[39m\u001b[38;5;124m\"\u001b[39m] \u001b[38;5;241m=\u001b[39m \u001b[38;5;28mself\u001b[39m\u001b[38;5;241m.\u001b[39m_unwrap_value(response\u001b[38;5;241m.\u001b[39mget(\u001b[38;5;124m\"\u001b[39m\u001b[38;5;124mvalue\u001b[39m\u001b[38;5;124m\"\u001b[39m, \u001b[38;5;28;01mNone\u001b[39;00m))\n",
      "File \u001b[0;32m/opt/homebrew/lib/python3.12/site-packages/selenium/webdriver/remote/errorhandler.py:229\u001b[0m, in \u001b[0;36mErrorHandler.check_response\u001b[0;34m(self, response)\u001b[0m\n\u001b[1;32m    228\u001b[0m     \u001b[38;5;28;01mraise\u001b[39;00m exception_class(message, screen, stacktrace, alert_text)  \u001b[38;5;66;03m# type: ignore[call-arg]  # mypy is not smart enough here\u001b[39;00m\n\u001b[0;32m--> 229\u001b[0m \u001b[38;5;28;01mraise\u001b[39;00m exception_class(message, screen, stacktrace)\n",
      "\u001b[0;31mNoSuchElementException\u001b[0m: Message: no such element: Unable to locate element: {\"method\":\"css selector\",\"selector\":\"[id=\"searchIframe\"]\"}\n  (Session info: chrome=124.0.6367.119); For documentation on this error, please visit: https://www.selenium.dev/documentation/webdriver/troubleshooting/errors#no-such-element-exception\nStacktrace:\n0   chromedriver                        0x0000000100cd28cc chromedriver + 4368588\n1   chromedriver                        0x0000000100ccad60 chromedriver + 4336992\n2   chromedriver                        0x00000001008eec04 chromedriver + 289796\n3   chromedriver                        0x0000000100930e00 chromedriver + 560640\n4   chromedriver                        0x00000001009695ec chromedriver + 792044\n5   chromedriver                        0x0000000100925ab4 chromedriver + 514740\n6   chromedriver                        0x000000010092650c chromedriver + 517388\n7   chromedriver                        0x0000000100c96de8 chromedriver + 4124136\n8   chromedriver                        0x0000000100c9bbd8 chromedriver + 4144088\n9   chromedriver                        0x0000000100c7c7b0 chromedriver + 4016048\n10  chromedriver                        0x0000000100c9c508 chromedriver + 4146440\n11  chromedriver                        0x0000000100c6e264 chromedriver + 3957348\n12  chromedriver                        0x0000000100cbbe50 chromedriver + 4275792\n13  chromedriver                        0x0000000100cbbfcc chromedriver + 4276172\n14  chromedriver                        0x0000000100cca9c0 chromedriver + 4336064\n15  libsystem_pthread.dylib             0x0000000180656034 _pthread_start + 136\n16  libsystem_pthread.dylib             0x0000000180650e3c thread_start + 8\n",
      "\nDuring handling of the above exception, another exception occurred:\n",
      "\u001b[0;31mNoSuchWindowException\u001b[0m                     Traceback (most recent call last)",
      "Cell \u001b[0;32mIn[11], line 39\u001b[0m\n\u001b[1;32m     37\u001b[0m last_height \u001b[38;5;241m=\u001b[39m driver\u001b[38;5;241m.\u001b[39mexecute_script(\u001b[38;5;124m\"\u001b[39m\u001b[38;5;124mreturn arguments[0].scrollTop;\u001b[39m\u001b[38;5;124m\"\u001b[39m, restaurantGroup)\n\u001b[1;32m     38\u001b[0m \u001b[38;5;28;01mwhile\u001b[39;00m \u001b[38;5;28;01mTrue\u001b[39;00m:\n\u001b[0;32m---> 39\u001b[0m     \u001b[43mdriver\u001b[49m\u001b[38;5;241;43m.\u001b[39;49m\u001b[43mexecute_script\u001b[49m\u001b[43m(\u001b[49m\u001b[38;5;124;43m\"\u001b[39;49m\u001b[38;5;124;43marguments[0].scrollBy(0, 1000)\u001b[39;49m\u001b[38;5;124;43m\"\u001b[39;49m\u001b[43m,\u001b[49m\u001b[43m \u001b[49m\u001b[43mrestaurantGroup\u001b[49m\u001b[43m)\u001b[49m\n\u001b[1;32m     40\u001b[0m     new_height \u001b[38;5;241m=\u001b[39m driver\u001b[38;5;241m.\u001b[39mexecute_script(\u001b[38;5;124m\"\u001b[39m\u001b[38;5;124mreturn arguments[0].scrollTop;\u001b[39m\u001b[38;5;124m\"\u001b[39m, restaurantGroup)\n\u001b[1;32m     41\u001b[0m     \u001b[38;5;28;01mif\u001b[39;00m new_height \u001b[38;5;241m==\u001b[39m last_height:\n",
      "File \u001b[0;32m/opt/homebrew/lib/python3.12/site-packages/selenium/webdriver/remote/webdriver.py:407\u001b[0m, in \u001b[0;36mWebDriver.execute_script\u001b[0;34m(self, script, *args)\u001b[0m\n\u001b[1;32m    404\u001b[0m converted_args \u001b[38;5;241m=\u001b[39m \u001b[38;5;28mlist\u001b[39m(args)\n\u001b[1;32m    405\u001b[0m command \u001b[38;5;241m=\u001b[39m Command\u001b[38;5;241m.\u001b[39mW3C_EXECUTE_SCRIPT\n\u001b[0;32m--> 407\u001b[0m \u001b[38;5;28;01mreturn\u001b[39;00m \u001b[38;5;28;43mself\u001b[39;49m\u001b[38;5;241;43m.\u001b[39;49m\u001b[43mexecute\u001b[49m\u001b[43m(\u001b[49m\u001b[43mcommand\u001b[49m\u001b[43m,\u001b[49m\u001b[43m \u001b[49m\u001b[43m{\u001b[49m\u001b[38;5;124;43m\"\u001b[39;49m\u001b[38;5;124;43mscript\u001b[39;49m\u001b[38;5;124;43m\"\u001b[39;49m\u001b[43m:\u001b[49m\u001b[43m \u001b[49m\u001b[43mscript\u001b[49m\u001b[43m,\u001b[49m\u001b[43m \u001b[49m\u001b[38;5;124;43m\"\u001b[39;49m\u001b[38;5;124;43margs\u001b[39;49m\u001b[38;5;124;43m\"\u001b[39;49m\u001b[43m:\u001b[49m\u001b[43m \u001b[49m\u001b[43mconverted_args\u001b[49m\u001b[43m}\u001b[49m\u001b[43m)\u001b[49m[\u001b[38;5;124m\"\u001b[39m\u001b[38;5;124mvalue\u001b[39m\u001b[38;5;124m\"\u001b[39m]\n",
      "File \u001b[0;32m/opt/homebrew/lib/python3.12/site-packages/selenium/webdriver/remote/webdriver.py:347\u001b[0m, in \u001b[0;36mWebDriver.execute\u001b[0;34m(self, driver_command, params)\u001b[0m\n\u001b[1;32m    345\u001b[0m response \u001b[38;5;241m=\u001b[39m \u001b[38;5;28mself\u001b[39m\u001b[38;5;241m.\u001b[39mcommand_executor\u001b[38;5;241m.\u001b[39mexecute(driver_command, params)\n\u001b[1;32m    346\u001b[0m \u001b[38;5;28;01mif\u001b[39;00m response:\n\u001b[0;32m--> 347\u001b[0m     \u001b[38;5;28;43mself\u001b[39;49m\u001b[38;5;241;43m.\u001b[39;49m\u001b[43merror_handler\u001b[49m\u001b[38;5;241;43m.\u001b[39;49m\u001b[43mcheck_response\u001b[49m\u001b[43m(\u001b[49m\u001b[43mresponse\u001b[49m\u001b[43m)\u001b[49m\n\u001b[1;32m    348\u001b[0m     response[\u001b[38;5;124m\"\u001b[39m\u001b[38;5;124mvalue\u001b[39m\u001b[38;5;124m\"\u001b[39m] \u001b[38;5;241m=\u001b[39m \u001b[38;5;28mself\u001b[39m\u001b[38;5;241m.\u001b[39m_unwrap_value(response\u001b[38;5;241m.\u001b[39mget(\u001b[38;5;124m\"\u001b[39m\u001b[38;5;124mvalue\u001b[39m\u001b[38;5;124m\"\u001b[39m, \u001b[38;5;28;01mNone\u001b[39;00m))\n\u001b[1;32m    349\u001b[0m     \u001b[38;5;28;01mreturn\u001b[39;00m response\n",
      "File \u001b[0;32m/opt/homebrew/lib/python3.12/site-packages/selenium/webdriver/remote/errorhandler.py:229\u001b[0m, in \u001b[0;36mErrorHandler.check_response\u001b[0;34m(self, response)\u001b[0m\n\u001b[1;32m    227\u001b[0m         alert_text \u001b[38;5;241m=\u001b[39m value[\u001b[38;5;124m\"\u001b[39m\u001b[38;5;124malert\u001b[39m\u001b[38;5;124m\"\u001b[39m]\u001b[38;5;241m.\u001b[39mget(\u001b[38;5;124m\"\u001b[39m\u001b[38;5;124mtext\u001b[39m\u001b[38;5;124m\"\u001b[39m)\n\u001b[1;32m    228\u001b[0m     \u001b[38;5;28;01mraise\u001b[39;00m exception_class(message, screen, stacktrace, alert_text)  \u001b[38;5;66;03m# type: ignore[call-arg]  # mypy is not smart enough here\u001b[39;00m\n\u001b[0;32m--> 229\u001b[0m \u001b[38;5;28;01mraise\u001b[39;00m exception_class(message, screen, stacktrace)\n",
      "\u001b[0;31mNoSuchWindowException\u001b[0m: Message: no such window: target window already closed\nfrom unknown error: web view not found\n  (Session info: chrome=124.0.6367.119)\nStacktrace:\n0   chromedriver                        0x0000000100cd28cc chromedriver + 4368588\n1   chromedriver                        0x0000000100ccad60 chromedriver + 4336992\n2   chromedriver                        0x00000001008eec04 chromedriver + 289796\n3   chromedriver                        0x00000001008c9918 chromedriver + 137496\n4   chromedriver                        0x0000000100955ab8 chromedriver + 711352\n5   chromedriver                        0x0000000100968d08 chromedriver + 789768\n6   chromedriver                        0x0000000100925ab4 chromedriver + 514740\n7   chromedriver                        0x000000010092650c chromedriver + 517388\n8   chromedriver                        0x0000000100c96de8 chromedriver + 4124136\n9   chromedriver                        0x0000000100c9bbd8 chromedriver + 4144088\n10  chromedriver                        0x0000000100c7c7b0 chromedriver + 4016048\n11  chromedriver                        0x0000000100c9c508 chromedriver + 4146440\n12  chromedriver                        0x0000000100c6e264 chromedriver + 3957348\n13  chromedriver                        0x0000000100cbbe50 chromedriver + 4275792\n14  chromedriver                        0x0000000100cbbfcc chromedriver + 4276172\n15  chromedriver                        0x0000000100cca9c0 chromedriver + 4336064\n16  libsystem_pthread.dylib             0x0000000180656034 _pthread_start + 136\n17  libsystem_pthread.dylib             0x0000000180650e3c thread_start + 8\n"
     ]
    }
   ],
   "source": [
    "restaurants = []\n",
    "i = 1\n",
    "while True:\n",
    "    currentPage = driver.find_element(By.CLASS_NAME,\"mBN2s.qxokY\").text\n",
    "    try: \n",
    "        iFrame = driver.find_element(By.ID,'searchIframe')\n",
    "        driver.switch_to.frame(iFrame)\n",
    "        restaurant = driver.find_element(By.XPATH,'//*[@id=\"_pcmap_list_scroll_container\"]/ul/li[%d]'%i)\n",
    "        restaurant.click()\n",
    "        driver.switch_to.default_content()\n",
    "        #ifram 코드 추가 필요\n",
    "        try:\n",
    "            restaurantName = driver.find_element(By.XPATH,'//*[@id=\"_title\"]/div/span[1]')\n",
    "            restaurantTags = driver.find_element(By.XPATH,'//*[@id=\"_title\"]/div/span[2]')\n",
    "            restaurantRating = driver.find_element(By.XPATH,'//*[@id=\"app-root\"]/div/div/div/div[2]/div[1]/div[2]/span[1]')\n",
    "            restaurantAddress = driver.find_element(By.XPATH,'//*[@id=\"app-root\"]/div/div/div/div[5]/div/div[2]/div[1]/div/div[1]/div/a/span[1]')\n",
    "            restaurantCallNumber = driver.find_element(By.XPATH,'//*[@id=\"app-root\"]/div/div/div/div[5]/div/div[2]/div[1]/div/div[4]/div/span[1]')\n",
    "            restaurants.append({\n",
    "                'name': restaurantName,\n",
    "                'tags': restaurantTags,\n",
    "                'rating': restaurantRating,\n",
    "                'address': restaurantAddress,\n",
    "                'callNumber': restaurantCallNumber\n",
    "\n",
    "            })\n",
    "        except:\n",
    "            pass\n",
    "        i+=1\n",
    "    except:\n",
    "        nextButton = driver.find_element(By.XPATH,'//*[@id=\"app-root\"]/div/div[2]/div[2]/a[6]')\n",
    "        nextButton.click()\n",
    "        time.sleep(1)\n",
    "        nextPage = driver.find_element(By.CLASS_NAME,\"mBN2s.qxokY\").text\n",
    "        if nextPage == currentPage: break\n",
    "        restaurantGroup = driver.find_element(By.XPATH,'//*[@id=\"_pcmap_list_scroll_container\"]')\n",
    "        last_height = driver.execute_script(\"return arguments[0].scrollTop;\", restaurantGroup)\n",
    "        while True:\n",
    "            driver.execute_script(\"arguments[0].scrollBy(0, 1000)\", restaurantGroup)\n",
    "            new_height = driver.execute_script(\"return arguments[0].scrollTop;\", restaurantGroup)\n",
    "            if new_height == last_height:\n",
    "                break\n",
    "            last_height = new_height\n",
    "            time.sleep(0.2)\n",
    "        i = 1\n",
    "print(restaurants)\n",
    "print(len(restaurants))"
   ]
  },
  {
   "cell_type": "code",
   "execution_count": null,
   "metadata": {},
   "outputs": [],
   "source": []
  }
 ],
 "metadata": {
  "kernelspec": {
   "display_name": "Python 3.10.7 64-bit",
   "language": "python",
   "name": "python3"
  },
  "language_info": {
   "codemirror_mode": {
    "name": "ipython",
    "version": 3
   },
   "file_extension": ".py",
   "mimetype": "text/x-python",
   "name": "python",
   "nbconvert_exporter": "python",
   "pygments_lexer": "ipython3",
   "version": "3.12.3"
  },
  "orig_nbformat": 4,
  "vscode": {
   "interpreter": {
    "hash": "aee8b7b246df8f9039afb4144a1f6fd8d2ca17a180786b69acc140d282b71a49"
   }
  }
 },
 "nbformat": 4,
 "nbformat_minor": 2
}
