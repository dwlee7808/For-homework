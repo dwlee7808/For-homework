{
 "cells": [
  {
   "cell_type": "code",
   "execution_count": 1,
   "metadata": {},
   "outputs": [],
   "source": [
    "from selenium import webdriver\n",
    "from selenium.webdriver.common.by import By\n",
    "from selenium.webdriver.common.keys import Keys\n",
    "from selenium.webdriver.chrome.service import Service\n",
    "from webdriver_manager.chrome import ChromeDriverManager\n",
    "import time"
   ]
  },
  {
   "cell_type": "code",
   "execution_count": 2,
   "metadata": {},
   "outputs": [],
   "source": [
    "driver = webdriver.Chrome(service= Service(ChromeDriverManager().install()))\n",
    "url = \"https://www.naver.com/\"\n",
    "driver.get(url)"
   ]
  },
  {
   "cell_type": "code",
   "execution_count": 3,
   "metadata": {},
   "outputs": [],
   "source": [
    "def returnText(selector):\n",
    "    try:\n",
    "        text = driver.find_element(By.CSS_SELECTOR, selector).text\n",
    "    except:\n",
    "        text = None\n",
    "    return(text)"
   ]
  },
  {
   "cell_type": "code",
   "execution_count": null,
   "metadata": {},
   "outputs": [],
   "source": []
  },
  {
   "cell_type": "code",
   "execution_count": 4,
   "metadata": {},
   "outputs": [],
   "source": [
    "searchBox = driver.find_element(By.XPATH,'//*[@id=\"query\"]')\n",
    "searchBox.send_keys(\"식당\")\n",
    "time.sleep(1)\n",
    "searchBox.send_keys(Keys.RETURN)\n",
    "map = driver.find_element(By.XPATH,'//*[@id=\"lnb\"]/div[1]/div/div[1]/div/div[1]/div[1]/a').click()\n",
    "time.sleep(1)"
   ]
  },
  {
   "cell_type": "code",
   "execution_count": 5,
   "metadata": {},
   "outputs": [],
   "source": [
    "driver.switch_to.window(driver.window_handles[-1])\n",
    "time.sleep(0.7)\n",
    "iFrame = driver.find_element(By.ID,'searchIframe')\n",
    "driver.switch_to.frame(iFrame)\n"
   ]
  },
  {
   "cell_type": "code",
   "execution_count": 6,
   "metadata": {},
   "outputs": [],
   "source": [
    "restaurantGroup = driver.find_element(By.XPATH,'//*[@id=\"_pcmap_list_scroll_container\"]')\n",
    "\n",
    "last_height = driver.execute_script(\"return arguments[0].scrollTop;\", restaurantGroup)\n",
    "while True:\n",
    "    driver.execute_script(\"arguments[0].scrollBy(0, 1000)\", restaurantGroup)\n",
    "    new_height = driver.execute_script(\"return arguments[0].scrollTop;\", restaurantGroup)\n",
    "    if new_height == last_height:\n",
    "        break\n",
    "    last_height = new_height\n",
    "    time.sleep(0.1)"
   ]
  },
  {
   "cell_type": "code",
   "execution_count": 7,
   "metadata": {},
   "outputs": [
    {
     "name": "stdout",
     "output_type": "stream",
     "text": [
      "[{'name': '냉동창고 용인외대점', 'tags': '밀키트', 'rating': None, 'address': '경기 용인시 처인구 모현읍 외대로40번길 6-4 105호', 'callNumber': '0507-1324-4396'}, {'name': '누들리즘 용인외대점', 'tags': '라면', 'rating': None, 'address': '경기 용인시 처인구 모현읍 외대로40번길 6-4 102호 누들리즘 용인외대점', 'callNumber': '0507-1361-4394'}, {'name': '삼부자생고기', 'tags': '육류,고기요리', 'rating': None, 'address': '경기 용인시 처인구 모현읍 백옥대로 2324', 'callNumber': '0507-1483-3389'}, {'name': '황태해장국', 'tags': '해장국', 'rating': '별점\\n4.28', 'address': '경기 용인시 처인구 모현읍 백옥대로 2229', 'callNumber': '0507-1442-5535'}, {'name': '똠팔이 용인점', 'tags': '바닷가재요리', 'rating': None, 'address': '경기 용인시 처인구 모현읍 갈월로 8 지하1층', 'callNumber': '0507-1441-0836'}, {'name': '왕산돈까스', 'tags': '돈가스', 'rating': '별점\\n4.45', 'address': '경기 용인시 처인구 모현읍 백옥대로 2349 1층', 'callNumber': '031-333-3350'}, {'name': '봄날', 'tags': '한식', 'rating': None, 'address': '경기 용인시 처인구 모현읍 백옥대로2186번길 69', 'callNumber': '0507-1367-4924'}, {'name': '미가초밥', 'tags': '초밥,롤', 'rating': '별점\\n4.39', 'address': '경기 용인시 처인구 모현읍 백옥대로2366번길 8-1', 'callNumber': '0507-1396-2787'}, {'name': '제주도마고기 모현점', 'tags': '육류,고기요리', 'rating': None, 'address': '경기 용인시 처인구 모현읍 백옥대로2332번길 21-13 104호, 105호', 'callNumber': '0507-1354-5892'}, {'name': '엄마손칼국수', 'tags': '칼국수,만두', 'rating': '별점\\n4.43', 'address': None, 'callNumber': None}]\n",
      "10\n"
     ]
    }
   ],
   "source": [
    "restaurants = []\n",
    "i = 1\n",
    "while True:\n",
    "    driver.switch_to.default_content()\n",
    "    iFrame = driver.find_element(By.ID,'searchIframe')\n",
    "    driver.switch_to.frame(iFrame)\n",
    "    currentPage = driver.find_element(By.CLASS_NAME,\"mBN2s.qxokY\").text\n",
    "    try: \n",
    "        restaurant = driver.find_element(By.XPATH,'//*[@id=\"_pcmap_list_scroll_container\"]/ul/li[%d]/div[1]/a/div/div/span[1]'%i)\n",
    "        restaurant.click()\n",
    "        time.sleep(0.7)\n",
    "        driver.switch_to.default_content()\n",
    "        iFrame = driver.find_element(By.ID,'entryIframe')\n",
    "        driver.switch_to.frame(iFrame)\n",
    "        restaurantName = returnText('#_title > div > span.Fc1rA')\n",
    "        restaurantTags = returnText('#_title > div > span.DJJvD')\n",
    "        restaurantRating = returnText('#app-root > div > div > div > div.place_section.no_margin.OP4V8 > div.zD5Nm.undefined > div.dAsGb > span.PXMot.LXIwF')\n",
    "        time.sleep(0.5)\n",
    "        restaurantAddress = returnText('#app-root > div > div > div > div:nth-child(5) > div > div:nth-child(2) > div.place_section_content > div > div.O8qbU.tQY7D > div > a > span.LDgIH')\n",
    "        restaurantCallNumber = returnText('#app-root > div > div > div > div:nth-child(5) > div > div:nth-child(2) > div.place_section_content > div > div.O8qbU.nbXkr > div > span.xlx7Q')\n",
    "        restaurants.append({\n",
    "            'name': restaurantName,\n",
    "            'tags': restaurantTags,\n",
    "            'rating': restaurantRating,\n",
    "            'address': restaurantAddress,\n",
    "            'callNumber': restaurantCallNumber\n",
    "        })\n",
    "        i+=1\n",
    "    except:\n",
    "        nextButton = driver.find_element(By.XPATH,'//*[@id=\"app-root\"]/div/div[2]/div[2]/a[6]')\n",
    "        nextButton.click()\n",
    "        time.sleep(0.7)\n",
    "        nextPage = driver.find_element(By.CLASS_NAME,\"mBN2s.qxokY\").text\n",
    "        if nextPage == currentPage: break\n",
    "        restaurantGroup = driver.find_element(By.XPATH,'//*[@id=\"_pcmap_list_scroll_container\"]')\n",
    "        last_height = driver.execute_script(\"return arguments[0].scrollTop;\", restaurantGroup)\n",
    "        while True:\n",
    "            driver.execute_script(\"arguments[0].scrollBy(0, 1000)\", restaurantGroup)\n",
    "            new_height = driver.execute_script(\"return arguments[0].scrollTop;\", restaurantGroup)\n",
    "            if new_height == last_height:\n",
    "                break\n",
    "            last_height = new_height\n",
    "            time.sleep(0.2)\n",
    "        i = 1\n",
    "print(restaurants)\n",
    "print(len(restaurants))"
   ]
  },
  {
   "cell_type": "code",
   "execution_count": null,
   "metadata": {},
   "outputs": [],
   "source": []
  }
 ],
 "metadata": {
  "kernelspec": {
   "display_name": "Python 3.10.7 64-bit",
   "language": "python",
   "name": "python3"
  },
  "language_info": {
   "codemirror_mode": {
    "name": "ipython",
    "version": 3
   },
   "file_extension": ".py",
   "mimetype": "text/x-python",
   "name": "python",
   "nbconvert_exporter": "python",
   "pygments_lexer": "ipython3",
   "version": "3.12.3"
  },
  "orig_nbformat": 4,
  "vscode": {
   "interpreter": {
    "hash": "aee8b7b246df8f9039afb4144a1f6fd8d2ca17a180786b69acc140d282b71a49"
   }
  }
 },
 "nbformat": 4,
 "nbformat_minor": 2
}
