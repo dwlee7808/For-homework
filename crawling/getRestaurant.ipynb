{
 "cells": [
  {
   "cell_type": "code",
   "execution_count": 1,
   "metadata": {},
   "outputs": [],
   "source": [
    "from selenium import webdriver\n",
    "from selenium.webdriver.common.by import By\n",
    "from selenium.webdriver.common.keys import Keys\n",
    "from selenium.webdriver.chrome.service import Service\n",
    "from webdriver_manager.chrome import ChromeDriverManager\n",
    "import time"
   ]
  },
  {
   "cell_type": "code",
   "execution_count": 2,
   "metadata": {},
   "outputs": [],
   "source": [
    "driver = webdriver.Chrome(service= Service(ChromeDriverManager().install()))\n",
    "url = \"https://www.naver.com/\"\n",
    "driver.get(url)"
   ]
  },
  {
   "cell_type": "code",
   "execution_count": 3,
   "metadata": {},
   "outputs": [],
   "source": [
    "searchBox = driver.find_element(By.XPATH,'//*[@id=\"query\"]')\n",
    "searchBox.send_keys(\"식당\")\n",
    "time.sleep(1)\n",
    "searchBox.send_keys(Keys.RETURN)\n",
    "map = driver.find_element(By.XPATH,'//*[@id=\"lnb\"]/div[1]/div/div[1]/div/div[1]/div[1]/a').click()"
   ]
  },
  {
   "cell_type": "code",
   "execution_count": 4,
   "metadata": {},
   "outputs": [],
   "source": [
    "driver.switch_to.window(driver.window_handles[-1])\n",
    "time.sleep(1)\n",
    "iFrame = driver.find_element(By.ID,'searchIframe')\n",
    "driver.switch_to.frame(iFrame)\n"
   ]
  },
  {
   "cell_type": "code",
   "execution_count": 5,
   "metadata": {},
   "outputs": [],
   "source": [
    "restaurantGroup = driver.find_element(By.XPATH,'//*[@id=\"_pcmap_list_scroll_container\"]')\n",
    "\n",
    "last_height = driver.execute_script(\"return arguments[0].scrollTop;\", restaurantGroup)\n",
    "while True:\n",
    "    driver.execute_script(\"arguments[0].scrollBy(0, 1000)\", restaurantGroup)\n",
    "    new_height = driver.execute_script(\"return arguments[0].scrollTop;\", restaurantGroup)\n",
    "    if new_height == last_height:\n",
    "        break\n",
    "    last_height = new_height\n",
    "    time.sleep(0.1)"
   ]
  },
  {
   "cell_type": "code",
   "execution_count": null,
   "metadata": {},
   "outputs": [
    {
     "name": "stdout",
     "output_type": "stream",
     "text": [
      "285\n",
      "[{'name': '레스토랑1', 'address': '서울특별시 강남구 역삼동 123-45', 'rating': 4.5, 'tags': ['한식', '고급', '가족식사']}, {'name': '미가초밥', 'rating': '별점\\n4.39', 'tags': ['초밥', '롤']}, {'name': '누들리즘 용인외대점', 'rating': None, 'tags': ['라면']}, {'name': '삼부자생고기', 'rating': None, 'tags': ['육류', '고기요리']}, {'name': '황태해장국', 'rating': '별점\\n4.28', 'tags': ['해장국']}, {'name': '왕산돈까스', 'rating': '별점\\n4.45', 'tags': ['돈가스']}, {'name': '봄날', 'rating': None, 'tags': ['한식']}, {'name': '미가초밥', 'rating': '별점\\n4.39', 'tags': ['초밥', '롤']}, {'name': '정밀', 'rating': None, 'tags': ['한식']}, {'name': '똠팔이 용인점', 'rating': None, 'tags': ['바닷가재요리']}, {'name': '제주도마고기 모현점', 'rating': None, 'tags': ['육류', '고기요리']}, {'name': '백채김치찌개 용인외대점', 'rating': None, 'tags': ['찌개', '전골']}, {'name': '호가그릴', 'rating': '별점\\n4.52', 'tags': ['돼지고기구이']}, {'name': '엄마손칼국수', 'rating': '별점\\n4.43', 'tags': ['칼국수', '만두']}, {'name': '진성곱창', 'rating': '별점\\n4.5', 'tags': ['곱창', '막창', '양']}, {'name': '코다리감동이되다 모현점', 'rating': None, 'tags': ['해물', '생선요리']}, {'name': '당신', 'rating': None, 'tags': ['양식']}, {'name': '이태리식당', 'rating': '별점\\n4.26', 'tags': ['이탈리아음식']}, {'name': '맛나옹심이메밀칼국수', 'rating': '별점\\n4.35', 'tags': ['칼국수', '만두']}, {'name': '리오브리또', 'rating': '별점\\n4.71', 'tags': ['멕시코', '남미음식']}, {'name': '명수당분식', 'rating': '별점\\n4.51', 'tags': ['종합분식']}, {'name': '피자보이', 'rating': '별점\\n4.56', 'tags': ['피자']}, {'name': '샤브향 용인외대점', 'rating': '별점\\n4.39', 'tags': ['샤브샤브']}, {'name': '냉동창고 용인외대점', 'rating': None, 'tags': ['밀키트']}, {'name': '매취랑 용인외대점', 'rating': None, 'tags': ['감자탕']}, {'name': '오늘의막걸리', 'rating': '별점\\n4.5', 'tags': ['전통', '민속주점']}, {'name': '진미바지락맛칼국수', 'rating': '별점\\n4.61', 'tags': ['칼국수', '만두']}, {'name': '피자나라치킨공주 용인모현외대점', 'rating': '별점\\n4.45', 'tags': ['피자']}, {'name': '자양포차', 'rating': '별점\\n4.67', 'tags': ['포장마차']}, {'name': '금요일오후', 'rating': '별점\\n4.13', 'tags': ['포장마차']}, {'name': '펀비어킹 용인 외대점', 'rating': '별점\\n4.32', 'tags': ['맥주', '호프']}, {'name': '밤밤피자 용인모현점', 'rating': '별점\\n4.6', 'tags': ['피자']}, {'name': '어메이징', 'rating': None, 'tags': ['맥주', '호프']}, {'name': '범카츠&카페', 'rating': None, 'tags': ['한식']}, {'name': '철뚝집 모현외대점', 'rating': None, 'tags': ['돼지고기구이']}, {'name': '갈담 부대찌개', 'rating': None, 'tags': ['한식']}, {'name': '마라장룡', 'rating': None, 'tags': ['한식']}, {'name': '매취랑 용인외대점', 'rating': None, 'tags': ['감자탕']}, {'name': '대만족 용인외대점', 'rating': '별점\\n4.52', 'tags': ['족발', '보쌈']}, {'name': '미락', 'rating': '별점\\n5', 'tags': ['낙지요리']}, {'name': '교촌치킨 용인모현점', 'rating': '별점\\n4.54', 'tags': ['치킨', '닭강정']}, {'name': '모현각', 'rating': '별점\\n4.5', 'tags': ['중식당']}, {'name': '황소숯불생막창', 'rating': '별점\\n4.5', 'tags': ['곱창', '막창', '양']}, {'name': '두찜 용인모현점', 'rating': '별점\\n5', 'tags': ['찜닭']}, {'name': '고기정원', 'rating': None, 'tags': ['육류', '고기요리']}, {'name': '날으는김밥', 'rating': '별점\\n4.37', 'tags': ['김밥']}, {'name': '제철주막', 'rating': None, 'tags': ['술집']}, {'name': '이백장돈가스 용인외대점', 'rating': None, 'tags': ['돈가스']}, {'name': '진성부대찌개', 'rating': None, 'tags': ['찌개', '전골']}, {'name': '우리할매떡볶이 용인모현점', 'rating': None, 'tags': ['분식']}, {'name': '동대문엽기떡볶이 용인모현점', 'rating': '별점\\n4.45', 'tags': ['분식']}, {'name': '티바두마리치킨 모현점', 'rating': '별점\\n3.5', 'tags': ['치킨', '닭강정']}, {'name': '고기어때', 'rating': None, 'tags': ['돼지고기구이']}, {'name': '홍루이젠 용인외대점', 'rating': None, 'tags': ['샌드위치']}, {'name': '행복한밥상', 'rating': None, 'tags': ['한식']}, {'name': '상원', 'rating': None, 'tags': ['중식당']}, {'name': '쏘자토스트', 'rating': None, 'tags': ['토스트']}, {'name': '페리카나 모현점', 'rating': '별점\\n4.46', 'tags': ['치킨', '닭강정']}, {'name': '까로체리아', 'rating': None, 'tags': ['바(BAR)']}, {'name': '누들리즘 용인외대점', 'rating': None, 'tags': ['라면']}, {'name': '장호덕손만두 용인모현점', 'rating': '별점\\n4.53', 'tags': ['칼국수', '만두']}, {'name': '한라맥주 용인외대점', 'rating': None, 'tags': ['맥주', '호프']}, {'name': '고향촌', 'rating': '별점\\n4', 'tags': ['육류', '고기요리']}, {'name': '논 콤팩트', 'rating': None, 'tags': ['카페', '디저트']}, {'name': '한신포차 용인외대점', 'rating': None, 'tags': ['포장마차']}, {'name': '파니스안젤리쿠스', 'rating': '별점\\n4.35', 'tags': ['베이커리']}, {'name': '닭뜰애닭갈비', 'rating': '별점\\n4.01', 'tags': ['닭갈비']}, {'name': '맛나바지락칼국수', 'rating': '별점\\n4.42', 'tags': ['칼국수', '만두']}, {'name': '왕십리야채곱창', 'rating': None, 'tags': ['한식']}, {'name': '보쌈주는족발집 용인외대점', 'rating': None, 'tags': ['족발', '보쌈']}, {'name': '전설의치킨 용인모현외대점', 'rating': '별점\\n4.33', 'tags': ['치킨', '닭강정']}, {'name': '설맥 용인외대점', 'rating': None, 'tags': ['맥주', '호프']}, {'name': '신전떡볶이 용인모현점', 'rating': '별점\\n4.69', 'tags': ['분식']}, {'name': '집밥뚝딱 용인모현점', 'rating': None, 'tags': ['밀키트']}, {'name': '초원 얼크니 샤브샤브 칼국수', 'rating': None, 'tags': ['샤브샤브']}, {'name': '역전할머니맥주 용인외대점', 'rating': None, 'tags': ['맥주', '호프']}, {'name': '치킨마루', 'rating': None, 'tags': ['치킨', '닭강정']}, {'name': '청년피자 용인모현점', 'rating': None, 'tags': ['피자']}, {'name': '예떡분식까페', 'rating': None, 'tags': ['종합분식']}, {'name': '먹을담', 'rating': None, 'tags': ['한식']}, {'name': '찌찌닭발', 'rating': '별점\\n4.19', 'tags': ['닭발']}, {'name': '냉동창고 용인외대점', 'rating': None, 'tags': ['밀키트']}, {'name': \"홍's\", 'rating': '별점\\n4.58', 'tags': ['돈가스']}, {'name': '주류창고', 'rating': '별점\\n4.8', 'tags': ['맥주', '호프']}, {'name': '하오츠양꼬치 본점', 'rating': '별점\\n4.36', 'tags': ['양꼬치']}, {'name': '멕시카나치킨 용인외대점', 'rating': None, 'tags': ['치킨', '닭강정']}, {'name': '명동찌개마을 모현외대점', 'rating': '별점\\n4.4', 'tags': ['찌개', '전골']}, {'name': '로뎀식당', 'rating': '별점\\n4.31', 'tags': ['한식']}, {'name': '도래울부대찌개용인점', 'rating': '별점\\n4.19', 'tags': ['찌개', '전골']}, {'name': '고기앞으로 백암이네', 'rating': '별점\\n4.13', 'tags': ['육류', '고기요리']}, {'name': '순살몬스터 모현마을', 'rating': None, 'tags': ['치킨', '닭강정']}, {'name': '담리카페', 'rating': None, 'tags': ['카페', '디저트']}, {'name': '네거리식당', 'rating': None, 'tags': ['한식']}, {'name': '토마토도시락 용인외대점', 'rating': '별점\\n4.6', 'tags': ['도시락', '컵밥']}, {'name': '차이나타운', 'rating': None, 'tags': ['중식당']}, {'name': '유케야 모현점', 'rating': None, 'tags': ['육류', '고기요리']}, {'name': '짝태앤노가리 용인외대점', 'rating': None, 'tags': ['포장마차']}, {'name': '주도', 'rating': None, 'tags': ['술집']}, {'name': '동해동태찌개전문점', 'rating': '별점\\n4.52', 'tags': ['매운탕', '해물탕']}, {'name': '외대갈매기용인모현본점', 'rating': '별점\\n5', 'tags': ['육류', '고기요리']}, {'name': '고인돌횟집', 'rating': None, 'tags': ['생선회']}, {'name': '모현닭발', 'rating': None, 'tags': ['야식']}, {'name': '대박 삼겹김치찜&초대박 등갈비김치찜 모현외대점', 'rating': None, 'tags': ['한식']}, {'name': '중앙정육점식당', 'rating': '별점\\n3.96', 'tags': ['정육식당']}, {'name': '달리는커피 용인한국외대점', 'rating': '별점\\n4.83', 'tags': ['카페']}, {'name': '돈피그', 'rating': '별점\\n4.76', 'tags': ['돼지고기구이']}, {'name': '장수촌 사철탕', 'rating': '별점\\n4.08', 'tags': ['사철', '영양탕']}, {'name': '행복한밥상', 'rating': '별점\\n4.55', 'tags': ['한식']}, {'name': '외대입구', 'rating': None, 'tags': ['치킨', '닭강정']}, {'name': '오뚜기네', 'rating': '별점\\n4.7', 'tags': ['순대', '순댓국']}, {'name': '하삼동커피 용인외대모현점', 'rating': None, 'tags': ['카페']}, {'name': '고인돌 카페', 'rating': '별점\\n4.4', 'tags': ['카페', '디저트']}, {'name': '오성식당', 'rating': '별점\\n4.48', 'tags': ['보리밥']}, {'name': '은희포차', 'rating': None, 'tags': ['포장마차']}, {'name': '감성커피 용인외대점', 'rating': None, 'tags': ['카페', '디저트']}, {'name': '하늘다리', 'rating': None, 'tags': ['돈가스']}, {'name': '디저트39 용인외대점', 'rating': '별점\\n4.61', 'tags': ['카페']}, {'name': '그집곱닭도리탕 모현외대점', 'rating': '별점\\n4.8', 'tags': ['닭볶음탕']}, {'name': '흑돼지촌', 'rating': '별점\\n4.64', 'tags': ['돼지고기구이']}, {'name': '노옥다', 'rating': None, 'tags': ['카페', '디저트']}, {'name': '어썸모어케이크', 'rating': None, 'tags': ['케이크전문']}, {'name': '올데이스위트', 'rating': '별점\\n4.74', 'tags': ['케이크전문']}, {'name': '그집 푸드', 'rating': None, 'tags': ['한식']}, {'name': '배스킨라빈스 용인모현', 'rating': '별점\\n4.44', 'tags': ['아이스크림']}, {'name': '이디야 용인외대점', 'rating': None, 'tags': ['카페']}, {'name': '미락낙지요리전문점 모현점', 'rating': None, 'tags': ['낙지요리']}, {'name': '대한민국을만족시킨족발 용인외대점', 'rating': None, 'tags': ['족발', '보쌈']}, {'name': '과시탐탐', 'rating': None, 'tags': ['과일', '주스전문점']}, {'name': '서래갈매기 용인모현외대점', 'rating': None, 'tags': ['돼지고기구이']}, {'name': '냉면천하 불백독존 모현점', 'rating': '별점\\n3.91', 'tags': ['한식']}, {'name': '로브', 'rating': None, 'tags': ['카페']}, {'name': '행복한한끼', 'rating': None, 'tags': ['한식']}, {'name': '송엘림치킨', 'rating': '별점\\n4', 'tags': ['치킨', '닭강정']}, {'name': '컴포즈커피 용인외대점', 'rating': None, 'tags': ['카페']}, {'name': '술자니비어', 'rating': '별점\\n4.11', 'tags': ['맥주', '호프']}, {'name': '뿅가야채곱창 용인외대점', 'rating': None, 'tags': ['곱창', '막창', '양']}, {'name': '냉면쟁이& 고기꾼', 'rating': None, 'tags': ['종합분식']}, {'name': '올댓생크림카스테라', 'rating': None, 'tags': ['베이커리']}, {'name': '안녕모현', 'rating': '별점\\n4.64', 'tags': ['카페', '디저트']}, {'name': '코코도르 향기카페', 'rating': '별점\\n4', 'tags': ['카페', '디저트']}, {'name': '썸', 'rating': None, 'tags': ['카페', '디저트']}, {'name': '열린세상', 'rating': None, 'tags': ['양식']}, {'name': '1927 김계월 짜글이 용인외대점', 'rating': None, 'tags': ['육류', '고기요리']}, {'name': 'BAKE HOTDOG&KITCHEN', 'rating': None, 'tags': ['햄버거']}, {'name': '포인트호프', 'rating': None, 'tags': ['맥주', '호프']}, {'name': '역전할머니맥주 용인외대점', 'rating': None, 'tags': ['맥주', '호프']}, {'name': '치킨마루', 'rating': None, 'tags': ['치킨', '닭강정']}, {'name': '청년피자 용인모현점', 'rating': None, 'tags': ['피자']}, {'name': '예떡분식까페', 'rating': None, 'tags': ['종합분식']}, {'name': '먹을담', 'rating': None, 'tags': ['한식']}, {'name': '찌찌닭발', 'rating': '별점\\n4.19', 'tags': ['닭발']}, {'name': '냉동창고 용인외대점', 'rating': None, 'tags': ['밀키트']}, {'name': \"홍's\", 'rating': '별점\\n4.58', 'tags': ['돈가스']}, {'name': '주류창고', 'rating': '별점\\n4.8', 'tags': ['맥주', '호프']}, {'name': '하오츠양꼬치 본점', 'rating': '별점\\n4.36', 'tags': ['양꼬치']}, {'name': '멕시카나치킨 용인외대점', 'rating': None, 'tags': ['치킨', '닭강정']}, {'name': '명동찌개마을 모현외대점', 'rating': '별점\\n4.4', 'tags': ['찌개', '전골']}, {'name': '로뎀식당', 'rating': '별점\\n4.31', 'tags': ['한식']}, {'name': '도래울부대찌개용인점', 'rating': '별점\\n4.19', 'tags': ['찌개', '전골']}, {'name': '고기앞으로 백암이네', 'rating': '별점\\n4.13', 'tags': ['육류', '고기요리']}, {'name': '순살몬스터 모현마을', 'rating': '별점\\n4.37', 'tags': ['죽']}, {'name': '야미마라탕 용인점', 'rating': None, 'tags': ['중식당']}, {'name': '자양성', 'rating': None, 'tags': ['중식당']}, {'name': '코빈', 'rating': None, 'tags': ['카페']}, {'name': '도노떡볶이', 'rating': '별점\\n4.05', 'tags': ['종합분식']}, {'name': '보스라이브카페', 'rating': None, 'tags': ['카페']}, {'name': '스시어게인', 'rating': None, 'tags': ['초밥', '롤']}, {'name': '용인휴양림막국수', 'rating': None, 'tags': ['한식']}, {'name': '제일남원추어탕', 'rating': '별점\\n4.62', 'tags': ['한식']}, {'name': '또봉이통닭 용인왕산신안점', 'rating': '별점\\n4.54', 'tags': ['치킨', '닭강정']}, {'name': '느티나무', 'rating': '별점\\n4.32', 'tags': ['육류', '고기요리']}, {'name': '모현다방', 'rating': None, 'tags': ['다방']}, {'name': '큰맘할매순대국 용인외대점', 'rating': '별점\\n4.52', 'tags': ['순대', '순댓국']}, {'name': '무안막갈비', 'rating': '별점\\n4.32', 'tags': ['육류', '고기요리']}, {'name': '피자스쿨 용인모현점', 'rating': '별점\\n4.42', 'tags': ['피자']}, {'name': '마미쿡 용인모현점', 'rating': None, 'tags': ['햄버거']}, {'name': '처갓집양념치킨 모현점', 'rating': '별점\\n4.21', 'tags': ['치킨', '닭강정']}, {'name': '666버거 용인모현점', 'rating': None, 'tags': ['햄버거']}, {'name': 'BBQ치킨 용인외대점', 'rating': None, 'tags': ['치킨', '닭강정']}, {'name': '본가 용인모현점', 'rating': None, 'tags': ['소고기구이']}, {'name': '돈가네김치찌개 모현점', 'rating': '별점\\n4.15', 'tags': ['한식']}, {'name': '성수식당', 'rating': '별점\\n4.45', 'tags': ['한식']}, {'name': '용인 한우마을', 'rating': '별점\\n4.1', 'tags': ['소고기구이']}, {'name': '전주식당', 'rating': '별점\\n4.15', 'tags': ['한식']}, {'name': '초부식당', 'rating': None, 'tags': ['한식']}, {'name': '통큰장어', 'rating': '별점\\n4.23', 'tags': ['장어', '먹장어요리']}, {'name': '사이드바이사이드 개러지카페', 'rating': None, 'tags': ['카페', '디저트']}, {'name': '밥에큐 용인모현점', 'rating': None, 'tags': ['치킨', '닭강정']}, {'name': '용이네양꼬치', 'rating': None, 'tags': ['양꼬치']}, {'name': '어도회포장전문점', 'rating': '별점\\n4.32', 'tags': ['생선회']}, {'name': '돈킹돈가스&파스타', 'rating': None, 'tags': ['돈가스']}, {'name': '스틸존', 'rating': '별점\\n4.85', 'tags': ['카페', '디저트']}, {'name': '미니미제과', 'rating': '별점\\n4.95', 'tags': ['카페', '디저트']}, {'name': '로텐토르테', 'rating': '별점\\n4.6', 'tags': ['카페', '디저트']}, {'name': '이지카페', 'rating': '별점\\n4.53', 'tags': ['카페', '디저트']}, {'name': '코페아 플래그쉽 스토어', 'rating': '별점\\n4.44', 'tags': ['카페', '디저트']}, {'name': '토끼랑닭이랑', 'rating': '별점\\n4.43', 'tags': ['닭요리']}, {'name': '모현양꼬치', 'rating': '별점\\n4', 'tags': ['양꼬치']}, {'name': '미운오리', 'rating': '별점\\n4.44', 'tags': ['오리요리']}, {'name': '따뜻한밥상', 'rating': '별점\\n3.97', 'tags': ['한식']}, {'name': '영순이네', 'rating': None, 'tags': ['한식']}, {'name': '그대로장작불곰탕', 'rating': '별점\\n4.27', 'tags': ['곰탕', '설렁탕']}, {'name': '혼밥대왕 용인모현점', 'rating': None, 'tags': ['한식']}, {'name': '웰리스커피', 'rating': None, 'tags': ['카페']}, {'name': '춘향골남원추어탕 용인모현점', 'rating': '별점\\n4.34', 'tags': ['추어탕']}, {'name': '대장금49포차', 'rating': '별점\\n4.4', 'tags': ['포장마차']}, {'name': '커피베이 외대용인점', 'rating': '별점\\n4.59', 'tags': ['카페']}, {'name': '올갱이민물매운탕', 'rating': '별점\\n4.32', 'tags': ['매운탕', '해물탕']}, {'name': '밥엔청국장 용인매산점', 'rating': '별점\\n4.25', 'tags': ['한식']}, {'name': '가마솥흑염소탕', 'rating': '별점\\n4.27', 'tags': ['육류', '고기요리']}, {'name': '캠핑7', 'rating': '별점\\n4.34', 'tags': ['육류', '고기요리']}, {'name': '진미순대국용인모현점', 'rating': '별점\\n4.13', 'tags': ['순대', '순댓국']}, {'name': '호호닭발', 'rating': None, 'tags': ['닭발']}, {'name': '카페바이준 로스터스', 'rating': '별점\\n4.55', 'tags': ['카페', '디저트']}, {'name': '천서리봉천막국수', 'rating': '별점\\n4.47', 'tags': ['한식']}, {'name': '음미커피', 'rating': None, 'tags': ['카페', '디저트']}, {'name': '마이요거트립 용인모현점', 'rating': None, 'tags': ['카페', '디저트']}, {'name': '고잉패스터 카페', 'rating': None, 'tags': ['카페', '디저트']}, {'name': '위드치킨 모현점', 'rating': '별점\\n4.49', 'tags': ['치킨', '닭강정']}, {'name': '명문오리마을', 'rating': '별점\\n3.88', 'tags': ['오리요리']}, {'name': '쌍용각', 'rating': '별점\\n4.12', 'tags': ['중식당']}, {'name': '이슬이네', 'rating': None, 'tags': ['맥주', '호프']}, {'name': '조아샌드공방카페', 'rating': '별점\\n4.83', 'tags': ['카페', '디저트']}, {'name': '청토', 'rating': None, 'tags': ['카페', '디저트']}, {'name': '장원', 'rating': '별점\\n4.05', 'tags': ['육류', '고기요리']}, {'name': '파리바게뜨 용인외대점', 'rating': '별점\\n4.27', 'tags': ['베이커리']}, {'name': '탕참 탕수육참잘하는집 용인모현점', 'rating': None, 'tags': ['치킨', '닭강정']}, {'name': '뚝배기양평해장국 매산사거리점', 'rating': None, 'tags': ['해장국']}, {'name': '유가네오리', 'rating': '별점\\n4.28', 'tags': ['한식']}, {'name': '카페 라구', 'rating': None, 'tags': ['카페']}, {'name': '유지니의작은정원', 'rating': None, 'tags': ['카페', '디저트']}, {'name': '마나냉면', 'rating': '별점\\n4.37', 'tags': ['냉면']}, {'name': '방울이회포차', 'rating': None, 'tags': ['생선회']}, {'name': '강촌식당', 'rating': '별점\\n4.17', 'tags': ['한식']}, {'name': '토스트럭 모현점', 'rating': None, 'tags': ['토스트']}, {'name': '락향', 'rating': None, 'tags': ['한식']}, {'name': '에스투카페', 'rating': '별점\\n4.55', 'tags': ['카페', '디저트']}, {'name': '낭만포차', 'rating': None, 'tags': ['포장마차']}, {'name': '삼성웰스토리 한국외대용인', 'rating': '별점\\n4.25', 'tags': ['한식']}, {'name': '매짜리토박이', 'rating': '별점\\n4.53', 'tags': ['한식']}, {'name': '스타벅스 용인모현DT점', 'rating': None, 'tags': ['카페']}, {'name': '아인라이크', 'rating': None, 'tags': ['케이크전문']}, {'name': '순이밥상', 'rating': None, 'tags': ['한식뷔페']}, {'name': '담소소사골순대육개장 용인모현점', 'rating': '별점\\n4.04', 'tags': ['순대', '순댓국']}, {'name': '미소라멘 하하돈까스', 'rating': '별점\\n4.41', 'tags': ['돈가스']}, {'name': '뽕사부 광주오포점', 'rating': '별점\\n4.11', 'tags': ['중식당']}, {'name': '카페도리', 'rating': '별점\\n4.4', 'tags': ['카페']}, {'name': '쮸커커피 초부점', 'rating': None, 'tags': ['카페', '디저트']}, {'name': '행복한밥상', 'rating': None, 'tags': ['한식']}, {'name': '장수골', 'rating': None, 'tags': ['갈비탕']}, {'name': '삼시세끼 도시락', 'rating': None, 'tags': ['한식']}, {'name': '정식당', 'rating': None, 'tags': ['한식']}, {'name': '로스트 포레스트', 'rating': None, 'tags': ['브런치카페']}, {'name': '마빈스커피', 'rating': '별점\\n4', 'tags': ['카페', '디저트']}, {'name': '바이킹그릴', 'rating': None, 'tags': ['소고기구이']}, {'name': '푸른마을가든', 'rating': '별점\\n4.38', 'tags': ['오리요리']}, {'name': '내고향장터', 'rating': '별점\\n4.43', 'tags': ['육류', '고기요리']}, {'name': '한끼', 'rating': None, 'tags': ['한식']}, {'name': '카페시즌23', 'rating': None, 'tags': ['샌드위치']}, {'name': '이동식당', 'rating': None, 'tags': ['한식']}, {'name': '이모네해장국', 'rating': None, 'tags': ['한식']}, {'name': '현이네한식부페식당', 'rating': None, 'tags': ['한식뷔페']}, {'name': '바비든든', 'rating': '별점\\n4.58', 'tags': ['백반', '가정식']}, {'name': '스모프치킨숯불바베큐매산점', 'rating': '별점\\n4.17', 'tags': ['치킨', '닭강정']}, {'name': '순영네돼지집', 'rating': '별점\\n4.3', 'tags': ['한식']}, {'name': '맘스터치 한국외대글로벌점', 'rating': '별점\\n4.35', 'tags': ['햄버거']}, {'name': '수라간', 'rating': '별점\\n4.78', 'tags': ['한식']}, {'name': '남도숯불고기', 'rating': '별점\\n4.45', 'tags': ['육류', '고기요리']}, {'name': '우리집도시락식당', 'rating': None, 'tags': ['도시락', '컵밥']}, {'name': '칼국수 연집', 'rating': None, 'tags': ['칼국수', '만두']}, {'name': '분식사관학교 PLUS', 'rating': None, 'tags': ['종합분식']}, {'name': '신가네', 'rating': '별점\\n3.83', 'tags': ['중식당']}, {'name': '장지리사골순대국왕산리본점', 'rating': '별점\\n4.32', 'tags': ['순대', '순댓국']}, {'name': '아리랑덮밥 용인외대점', 'rating': None, 'tags': ['한식']}, {'name': '프라이데이나인 용인한국외대점', 'rating': '별점\\n4', 'tags': ['스파게티', '파스타전문']}, {'name': '한국외대글로벌캠퍼스후생관학생식당', 'rating': None, 'tags': ['한식']}, {'name': '거북이밥상', 'rating': '별점\\n3.5', 'tags': ['한정식']}, {'name': '던킨 한국외대글로벌캠퍼스점', 'rating': '별점\\n4.72', 'tags': ['도넛']}, {'name': '참숯구이 장어가', 'rating': '별점\\n4.5', 'tags': ['한식']}, {'name': '삼정한식뷔페', 'rating': None, 'tags': ['한식뷔페']}, {'name': '샘물식당', 'rating': None, 'tags': ['한식']}, {'name': '명사순대 광주오포점', 'rating': None, 'tags': ['순대', '순댓국']}, {'name': '코끼리왕만두', 'rating': '별점\\n4.75', 'tags': ['종합분식']}, {'name': '푸드머스생협한국외대후생교직원점', 'rating': None, 'tags': ['한식']}, {'name': '가왕돈까스', 'rating': '별점\\n4.34', 'tags': ['돈가스']}]\n"
     ]
    }
   ],
   "source": [
    "restaurants = []\n",
    "i = 1\n",
    "while True:\n",
    "    currentPage = driver.find_element(By.CLASS_NAME,\"mBN2s.qxokY\").text\n",
    "    try: \n",
    "        iFrame = driver.find_element(By.ID,'searchIframe')\n",
    "        driver.switch_to.frame(iFrame)\n",
    "        restaurant = driver.find_element(By.XPATH,'//*[@id=\"_pcmap_list_scroll_container\"]/ul/li[%d]'%i)\n",
    "        restaurant.click()\n",
    "        driver.switch_to.default_content()\n",
    "        iFrame = driver.find_element(By.ID,'entryIframe')\n",
    "        driver.switch_to.frame(iFrame)\n",
    "        try:\n",
    "            restaurantName = driver.find_element(By.XPATH,'//*[@id=\"_title\"]/div/span[1]')\n",
    "            restaurantTags = driver.find_element(By.XPATH,'//*[@id=\"_title\"]/div/span[2]')\n",
    "            restaurantRating = driver.find_element(By.XPATH,'//*[@id=\"app-root\"]/div/div/div/div[2]/div[1]/div[2]/span[1]')\n",
    "            restaurantAddress = driver.find_element(By.XPATH,'//*[@id=\"app-root\"]/div/div/div/div[5]/div/div[2]/div[1]/div/div[1]/div/a/span[1]')\n",
    "            restaurantCallNumber = driver.find_element(By.XPATH,'//*[@id=\"app-root\"]/div/div/div/div[5]/div/div[2]/div[1]/div/div[4]/div/span[1]')\n",
    "            restaurants.append({\n",
    "                'name': restaurantName,\n",
    "                'tags': restaurantTags,\n",
    "                'rating': restaurantRating,\n",
    "                'address': restaurantAddress,\n",
    "                'callNumber': restaurantCallNumber\n",
    "\n",
    "            })\n",
    "        except:\n",
    "            pass\n",
    "        i+=1\n",
    "    except:\n",
    "        nextButton = driver.find_element(By.XPATH,'//*[@id=\"app-root\"]/div/div[2]/div[2]/a[6]')\n",
    "        nextButton.click()\n",
    "        time.sleep(1)\n",
    "        nextPage = driver.find_element(By.CLASS_NAME,\"mBN2s.qxokY\").text\n",
    "        if nextPage == currentPage: break\n",
    "        restaurantGroup = driver.find_element(By.XPATH,'//*[@id=\"_pcmap_list_scroll_container\"]')\n",
    "        last_height = driver.execute_script(\"return arguments[0].scrollTop;\", restaurantGroup)\n",
    "        while True:\n",
    "            driver.execute_script(\"arguments[0].scrollBy(0, 1000)\", restaurantGroup)\n",
    "            new_height = driver.execute_script(\"return arguments[0].scrollTop;\", restaurantGroup)\n",
    "            if new_height == last_height:\n",
    "                break\n",
    "            last_height = new_height\n",
    "            time.sleep(0.2)\n",
    "        i = 1\n",
    "print(len(restaurants))\n",
    "print(restaurants)"
   ]
  },
  {
   "cell_type": "code",
   "execution_count": null,
   "metadata": {},
   "outputs": [],
   "source": []
  }
 ],
 "metadata": {
  "kernelspec": {
   "display_name": "Python 3.10.7 64-bit",
   "language": "python",
   "name": "python3"
  },
  "language_info": {
   "codemirror_mode": {
    "name": "ipython",
    "version": 3
   },
   "file_extension": ".py",
   "mimetype": "text/x-python",
   "name": "python",
   "nbconvert_exporter": "python",
   "pygments_lexer": "ipython3",
   "version": "3.12.3"
  },
  "orig_nbformat": 4,
  "vscode": {
   "interpreter": {
    "hash": "aee8b7b246df8f9039afb4144a1f6fd8d2ca17a180786b69acc140d282b71a49"
   }
  }
 },
 "nbformat": 4,
 "nbformat_minor": 2
}
