{
 "cells": [
  {
   "cell_type": "code",
   "execution_count": 2,
   "metadata": {},
   "outputs": [],
   "source": [
    "from selenium import webdriver\n",
    "from selenium.webdriver.common.by import By\n",
    "from selenium.webdriver.common.keys import Keys\n",
    "from selenium.webdriver.chrome.service import Service\n",
    "from webdriver_manager.chrome import ChromeDriverManager\n",
    "import time\n",
    "\n",
    "from openpyxl import Workbook"
   ]
  },
  {
   "cell_type": "code",
   "execution_count": 3,
   "metadata": {},
   "outputs": [],
   "source": [
    "driver = webdriver.Chrome(service= Service(ChromeDriverManager().install()))\n",
    "url = \"https://www.naver.com/\"\n",
    "driver.get(url)"
   ]
  },
  {
   "cell_type": "code",
   "execution_count": 4,
   "metadata": {},
   "outputs": [],
   "source": [
    "def returnText(selector):\n",
    "    try:\n",
    "        text = driver.find_element(By.CSS_SELECTOR, selector).text\n",
    "    except:\n",
    "        text = None\n",
    "    return(text)"
   ]
  },
  {
   "cell_type": "code",
   "execution_count": 5,
   "metadata": {},
   "outputs": [],
   "source": [
    "searchBox = driver.find_element(By.XPATH,'//*[@id=\"query\"]')\n",
    "searchBox.send_keys(\"식당\")\n",
    "time.sleep(1)\n",
    "searchBox.send_keys(Keys.RETURN)\n",
    "map = driver.find_element(By.XPATH,'//*[@id=\"lnb\"]/div[1]/div/div[1]/div/div[1]/div[1]/a').click()\n",
    "time.sleep(1)"
   ]
  },
  {
   "cell_type": "code",
   "execution_count": 6,
   "metadata": {},
   "outputs": [],
   "source": [
    "driver.switch_to.window(driver.window_handles[-1])\n",
    "time.sleep(1)\n",
    "iFrame = driver.find_element(By.ID,'searchIframe')\n",
    "driver.switch_to.frame(iFrame)\n",
    "time.sleep(0.3)\n"
   ]
  },
  {
   "cell_type": "code",
   "execution_count": 8,
   "metadata": {},
   "outputs": [],
   "source": [
    "restaurantGroup = driver.find_element(By.XPATH,'//*[@id=\"_pcmap_list_scroll_container\"]')\n",
    "\n",
    "last_height = driver.execute_script(\"return arguments[0].scrollTop;\", restaurantGroup)\n",
    "while True:\n",
    "    driver.execute_script(\"arguments[0].scrollBy(0, 1000)\", restaurantGroup)\n",
    "    new_height = driver.execute_script(\"return arguments[0].scrollTop;\", restaurantGroup)\n",
    "    if new_height == last_height:\n",
    "        break\n",
    "    last_height = new_height\n",
    "    time.sleep(0.1)"
   ]
  },
  {
   "cell_type": "code",
   "execution_count": 20,
   "metadata": {},
   "outputs": [
    {
     "name": "stdout",
     "output_type": "stream",
     "text": [
      "[{'name': '노브랜드버거 성남태평점', 'tags': '햄버거', 'rating': '별점\\n4.34', 'address': '경기 성남시 수정구 제일로 165 1층', 'callNumber': '031-751-3690'}, {'name': '스시마루', 'tags': '초밥,롤', 'rating': '별점\\n4.4', 'address': '경기 성남시 수정구 탄리로 92 1층스시마루', 'callNumber': '031-757-8630'}, {'name': '스시마루', 'tags': '초밥,롤', 'rating': '별점\\n4.4', 'address': '경기 성남시 수정구 탄리로 92 1층스시마루', 'callNumber': '031-757-8630'}, {'name': '히노아지 성남신흥점', 'tags': '일본식라면', 'rating': None, 'address': '경기 성남시 수정구 산성대로 267 신흥역시네마타워 7층 703-1호', 'callNumber': '031-747-5349'}, {'name': '가마솥순대국밥 성남신흥점', 'tags': '순대,순댓국', 'rating': None, 'address': '경기 성남시 수정구 시민로 144 1층 가마솥순대국밥 성남 신흥점', 'callNumber': '0507-1390-2641'}, {'name': '하루엔소쿠 신흥롯데시네마점', 'tags': '돈가스', 'rating': '별점\\n4.27', 'address': '경기 성남시 수정구 산성대로 267 2층 221, 222호 돈까스 맛집 하루엔소쿠', 'callNumber': '031-744-2585'}, {'name': '춘리마라탕 신흥역점', 'tags': '마라탕', 'rating': None, 'address': '경기 성남시 수정구 산성대로 271-1 2층', 'callNumber': '0507-1409-8886'}, {'name': '참미루축산물정육식당', 'tags': '정육식당', 'rating': '별점\\n4.36', 'address': '경기 성남시 수정구 탄리로81번길 5', 'callNumber': '0507-1404-3621'}, {'name': '역전할머니맥주 신흥역점', 'tags': '맥주,호프', 'rating': '별점\\n4.34', 'address': '경기 성남시 수정구 산성대로255번길 7 1층', 'callNumber': None}]\n",
      "9\n"
     ]
    }
   ],
   "source": [
    "restaurants = []\n",
    "i = 1\n",
    "while i<10:\n",
    "    driver.switch_to.default_content()\n",
    "    iFrame = driver.find_element(By.ID,'searchIframe')\n",
    "    driver.switch_to.frame(iFrame)\n",
    "    currentPage = driver.find_element(By.CLASS_NAME,\"mBN2s.qxokY\").text\n",
    "    try: \n",
    "        restaurant = driver.find_element(By.XPATH,'//*[@id=\"_pcmap_list_scroll_container\"]/ul/li[%d]/div[1]/a/div/div/span[1]'%i)\n",
    "        restaurant.click()\n",
    "        time.sleep(1)\n",
    "        driver.switch_to.default_content()\n",
    "        iFrame = driver.find_element(By.ID,'entryIframe')\n",
    "        driver.switch_to.frame(iFrame)\n",
    "        restaurantName = returnText('#_title > div > span.GHAhO')\n",
    "        restaurantTags = returnText('#_title > div > span.lnJFt')\n",
    "        restaurantRating = returnText('#app-root > div > div > div > div.place_section.no_margin.OP4V8 > div.zD5Nm.undefined > div.dAsGb > span.PXMot.LXIwF')\n",
    "        time.sleep(0.5)\n",
    "        restaurantAddress = returnText('#app-root > div > div > div > div:nth-child(5) > div > div:nth-child(2) > div.place_section_content > div > div.O8qbU.tQY7D > div > a > span.LDgIH')\n",
    "        restaurantCallNumber = returnText('#app-root > div > div > div > div:nth-child(5) > div > div:nth-child(2) > div.place_section_content > div > div.O8qbU.nbXkr > div > span.xlx7Q')\n",
    "        restaurants.append({\n",
    "            'name': restaurantName,\n",
    "            'tags': restaurantTags,\n",
    "            'rating': restaurantRating,\n",
    "            'address': restaurantAddress,\n",
    "            'callNumber': restaurantCallNumber\n",
    "        })\n",
    "        i+=1\n",
    "    except:\n",
    "        nextButton = driver.find_element(By.XPATH,'//*[@id=\"app-root\"]/div/div[2]/div[2]/a[6]')\n",
    "        nextButton.click()\n",
    "        time.sleep(0.7)\n",
    "        nextPage = driver.find_element(By.CLASS_NAME,\"mBN2s.qxokY\").text\n",
    "        if nextPage == currentPage: break\n",
    "        restaurantGroup = driver.find_element(By.XPATH,'//*[@id=\"_pcmap_list_scroll_container\"]')\n",
    "        last_height = driver.execute_script(\"return arguments[0].scrollTop;\", restaurantGroup)\n",
    "        while True:\n",
    "            driver.execute_script(\"arguments[0].scrollBy(0, 1000)\", restaurantGroup)\n",
    "            new_height = driver.execute_script(\"return arguments[0].scrollTop;\", restaurantGroup)\n",
    "            if new_height == last_height:\n",
    "                break\n",
    "            last_height = new_height\n",
    "            time.sleep(0.2)\n",
    "        i = 1\n",
    "print(restaurants)\n",
    "print(len(restaurants))"
   ]
  },
  {
   "cell_type": "code",
   "execution_count": 22,
   "metadata": {},
   "outputs": [],
   "source": [
    "wb = Workbook()\n",
    "ws = wb.active\n",
    "ws.title = \"Restaurants\"\n",
    "column = ['name','tags','rating','adress','callNumber']\n",
    "ws.append(column)\n",
    "for i in range(len(restaurants)):\n",
    "    row = [restaurants[i]['name'],restaurants[i]['tags'],restaurants[i]['rating'],restaurants[i]['address'],restaurants[i]['callNumber']]\n",
    "    ws.append(row)\n",
    "wb.save('restaurant list.xlsx')\n",
    "wb.close()"
   ]
  }
 ],
 "metadata": {
  "kernelspec": {
   "display_name": "Python 3.10.7 64-bit",
   "language": "python",
   "name": "python3"
  },
  "language_info": {
   "codemirror_mode": {
    "name": "ipython",
    "version": 3
   },
   "file_extension": ".py",
   "mimetype": "text/x-python",
   "name": "python",
   "nbconvert_exporter": "python",
   "pygments_lexer": "ipython3",
   "version": "3.12.3"
  },
  "orig_nbformat": 4,
  "vscode": {
   "interpreter": {
    "hash": "aee8b7b246df8f9039afb4144a1f6fd8d2ca17a180786b69acc140d282b71a49"
   }
  }
 },
 "nbformat": 4,
 "nbformat_minor": 2
}
